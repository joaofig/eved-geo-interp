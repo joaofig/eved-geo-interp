{
 "cells": [
  {
   "cell_type": "code",
   "id": "initial_id",
   "metadata": {
    "collapsed": true,
    "ExecuteTime": {
     "end_time": "2024-07-19T11:12:20.916091Z",
     "start_time": "2024-07-19T11:12:20.130706Z"
    }
   },
   "source": [
    "import os\n",
    "import json\n",
    "import numpy as np\n",
    "import polars as pl\n",
    "\n",
    "from typing import List, Dict\n",
    "from datetime import datetime, timedelta\n",
    "from pytz import timezone\n",
    "from src.openmeteo import get_hist_temp\n",
    "from src.models import MeteoPredictor, MeteoSource"
   ],
   "outputs": [],
   "execution_count": 1
  },
  {
   "metadata": {
    "ExecuteTime": {
     "end_time": "2024-07-19T11:12:20.923052Z",
     "start_time": "2024-07-19T11:12:20.918001Z"
    }
   },
   "cell_type": "code",
   "source": [
    "def get_temp_locations(files: str = \"data/eVED/*.csv\") -> np.ndarray:\n",
    "    lf = (pl.scan_csv(files)\n",
    "          .select([pl.col(\"Matchted Latitude[deg]\").alias(\"lat\"),\n",
    "                   pl.col(\"Matched Longitude[deg]\").alias(\"lon\")]))\n",
    "    loc_max = lf.max().collect().to_numpy()[0]\n",
    "    loc_min = lf.min().collect().to_numpy()[0]\n",
    "    loc_mid = (loc_min + loc_max) / 2\n",
    "    locations = np.array([\n",
    "        (loc_min[0], loc_min[1]),\n",
    "        (loc_min[0], loc_mid[1]),\n",
    "        (loc_min[0], loc_max[1]),\n",
    "        (loc_mid[0], loc_min[1]),\n",
    "        (loc_mid[0], loc_mid[1]),\n",
    "        (loc_mid[0], loc_max[1]),\n",
    "        (loc_max[0], loc_min[1]),\n",
    "        (loc_max[0], loc_mid[1]),\n",
    "        (loc_max[0], loc_max[1])\n",
    "    ])\n",
    "    return locations"
   ],
   "id": "2d6a2be337776dc2",
   "outputs": [],
   "execution_count": 2
  },
  {
   "metadata": {
    "ExecuteTime": {
     "end_time": "2024-07-19T11:12:20.928292Z",
     "start_time": "2024-07-19T11:12:20.924385Z"
    }
   },
   "cell_type": "code",
   "source": [
    "def get_temp_sources(temp_locations: np.ndarray) -> List[Dict]:\n",
    "    temp_sources = []\n",
    "    date_min = \"2017-11-01\"\n",
    "    date_max = \"2018-12-01\"\n",
    "    for i, location in enumerate(get_temp_locations()):\n",
    "        filename = f\"./data/openmeteo/location_{i}.json\"\n",
    "        if not os.path.exists(filename):\n",
    "            temperatures = get_hist_temp(*location, start_date=date_min, end_date=date_max)\n",
    "            with open(filename, \"w\") as f:\n",
    "                f.write(json.dumps(temperatures))\n",
    "        else:\n",
    "            with open(filename, \"r\") as f:\n",
    "                temperatures = json.loads(f.read())\n",
    "        temp_sources.append(temperatures)\n",
    "    return temp_sources"
   ],
   "id": "8d7b691e50c8bf42",
   "outputs": [],
   "execution_count": 3
  },
  {
   "metadata": {
    "ExecuteTime": {
     "end_time": "2024-07-19T11:12:20.935532Z",
     "start_time": "2024-07-19T11:12:20.929899Z"
    }
   },
   "cell_type": "code",
   "source": "temp_df = pl.read_csv(\"data/temperatures.csv\")",
   "id": "d4e9dec3c3328313",
   "outputs": [],
   "execution_count": 4
  },
  {
   "metadata": {
    "ExecuteTime": {
     "end_time": "2024-07-19T11:12:27.037169Z",
     "start_time": "2024-07-19T11:12:20.938938Z"
    }
   },
   "cell_type": "code",
   "source": [
    "temp_sources = get_temp_sources(get_temp_locations())\n",
    "sources = [MeteoSource.from_temp_source(temp_src) for temp_src in temp_sources]\n",
    "predictor = MeteoPredictor(sources)"
   ],
   "id": "64c5685baab170db",
   "outputs": [],
   "execution_count": 5
  },
  {
   "metadata": {
    "ExecuteTime": {
     "end_time": "2024-07-19T11:12:27.747532Z",
     "start_time": "2024-07-19T11:12:27.038170Z"
    }
   },
   "cell_type": "code",
   "source": [
    "base_dt = datetime(year=2017, month=11, day=1, tzinfo=timezone(\"America/Detroit\"))\n",
    "temp_arr = temp_df.to_numpy()\n",
    "pred_arr = np.zeros(temp_arr.shape[0])\n",
    "for i, (day_num, timestamp, lat, lon, oat, temp) in enumerate(temp_arr):\n",
    "    # print(i, day_num, timestamp, lat, lon, oat, temp)\n",
    "    dt = base_dt + timedelta(days=day_num - 1) + timedelta(milliseconds=timestamp)\n",
    "    pred_arr[i] = predictor.predict(lat, lon, dt, power=10)"
   ],
   "id": "986f517f74aa95e8",
   "outputs": [],
   "execution_count": 6
  },
  {
   "metadata": {
    "ExecuteTime": {
     "end_time": "2024-07-19T11:12:27.754969Z",
     "start_time": "2024-07-19T11:12:27.749810Z"
    }
   },
   "cell_type": "code",
   "source": "temp_df = temp_df.with_columns(pl.Series(name=\"Pred[DegC]\", values=pred_arr))",
   "id": "255dd496bcdec5b0",
   "outputs": [],
   "execution_count": 7
  },
  {
   "metadata": {
    "ExecuteTime": {
     "end_time": "2024-07-19T11:12:27.769178Z",
     "start_time": "2024-07-19T11:12:27.756863Z"
    }
   },
   "cell_type": "code",
   "source": "temp_df",
   "id": "f27e2d8e5a928b34",
   "outputs": [
    {
     "data": {
      "text/plain": [
       "shape: (2_700, 7)\n",
       "┌────────────┬───────────────┬───────────────┬───────────────┬───────────┬────────────┬────────────┐\n",
       "│ DayNum     ┆ Timestamp(ms) ┆ Latitude[deg] ┆ Longitude[deg ┆ OAT[DegC] ┆ Temp[DegC] ┆ Pred[DegC] │\n",
       "│ ---        ┆ ---           ┆ ---           ┆ ]             ┆ ---       ┆ ---        ┆ ---        │\n",
       "│ f64        ┆ f64           ┆ f64           ┆ ---           ┆ f64       ┆ f64        ┆ f64        │\n",
       "│            ┆               ┆               ┆ f64           ┆           ┆            ┆            │\n",
       "╞════════════╪═══════════════╪═══════════════╪═══════════════╪═══════════╪════════════╪════════════╡\n",
       "│ 190.802671 ┆ 195600.0      ┆ 42.25117      ┆ -83.74965     ┆ 16.0      ┆ 22.336311  ┆ 22.149925  │\n",
       "│ 194.521585 ┆ 280700.0      ┆ 42.297882     ┆ -83.753558    ┆ 9.0       ┆ 15.830457  ┆ 15.614344  │\n",
       "│ 195.594727 ┆ 782000.0      ┆ 42.308659     ┆ -83.688095    ┆ 13.0      ┆ 20.698133  ┆ 20.797599  │\n",
       "│ 194.89829  ┆ 602500.0      ┆ 42.277627     ┆ -83.69994     ┆ 7.0       ┆ 14.527369  ┆ 14.377369  │\n",
       "│ 192.529954 ┆ 146400.0      ┆ 42.27274      ┆ -83.698013    ┆ 16.0      ┆ 7.807648   ┆ 7.657652   │\n",
       "│ …          ┆ …             ┆ …             ┆ …             ┆ …         ┆ …          ┆ …          │\n",
       "│ 331.957463 ┆ 381000.0      ┆ 42.229452     ┆ -83.739311    ┆ 23.0      ┆ 10.31699   ┆ 10.315212  │\n",
       "│ 336.859603 ┆ 2500.0        ┆ 42.232183     ┆ -83.738776    ┆ 19.0      ┆ 14.505721  ┆ 14.518553  │\n",
       "│ 330.73581  ┆ 187900.0      ┆ 42.244416     ┆ -83.683725    ┆ 17.0      ┆ 16.959534  ┆ 16.990064  │\n",
       "│ 332.714107 ┆ 5900.0        ┆ 42.254719     ┆ -83.726068    ┆ 19.0      ┆ 17.707451  ┆ 17.866367  │\n",
       "│ 334.866458 ┆ 26600.0       ┆ 42.272484     ┆ -83.749229    ┆ 18.0      ┆ 13.013806  ┆ 12.839156  │\n",
       "└────────────┴───────────────┴───────────────┴───────────────┴───────────┴────────────┴────────────┘"
      ],
      "text/html": [
       "<div><style>\n",
       ".dataframe > thead > tr,\n",
       ".dataframe > tbody > tr {\n",
       "  text-align: right;\n",
       "  white-space: pre-wrap;\n",
       "}\n",
       "</style>\n",
       "<small>shape: (2_700, 7)</small><table border=\"1\" class=\"dataframe\"><thead><tr><th>DayNum</th><th>Timestamp(ms)</th><th>Latitude[deg]</th><th>Longitude[deg]</th><th>OAT[DegC]</th><th>Temp[DegC]</th><th>Pred[DegC]</th></tr><tr><td>f64</td><td>f64</td><td>f64</td><td>f64</td><td>f64</td><td>f64</td><td>f64</td></tr></thead><tbody><tr><td>190.802671</td><td>195600.0</td><td>42.25117</td><td>-83.74965</td><td>16.0</td><td>22.336311</td><td>22.149925</td></tr><tr><td>194.521585</td><td>280700.0</td><td>42.297882</td><td>-83.753558</td><td>9.0</td><td>15.830457</td><td>15.614344</td></tr><tr><td>195.594727</td><td>782000.0</td><td>42.308659</td><td>-83.688095</td><td>13.0</td><td>20.698133</td><td>20.797599</td></tr><tr><td>194.89829</td><td>602500.0</td><td>42.277627</td><td>-83.69994</td><td>7.0</td><td>14.527369</td><td>14.377369</td></tr><tr><td>192.529954</td><td>146400.0</td><td>42.27274</td><td>-83.698013</td><td>16.0</td><td>7.807648</td><td>7.657652</td></tr><tr><td>&hellip;</td><td>&hellip;</td><td>&hellip;</td><td>&hellip;</td><td>&hellip;</td><td>&hellip;</td><td>&hellip;</td></tr><tr><td>331.957463</td><td>381000.0</td><td>42.229452</td><td>-83.739311</td><td>23.0</td><td>10.31699</td><td>10.315212</td></tr><tr><td>336.859603</td><td>2500.0</td><td>42.232183</td><td>-83.738776</td><td>19.0</td><td>14.505721</td><td>14.518553</td></tr><tr><td>330.73581</td><td>187900.0</td><td>42.244416</td><td>-83.683725</td><td>17.0</td><td>16.959534</td><td>16.990064</td></tr><tr><td>332.714107</td><td>5900.0</td><td>42.254719</td><td>-83.726068</td><td>19.0</td><td>17.707451</td><td>17.866367</td></tr><tr><td>334.866458</td><td>26600.0</td><td>42.272484</td><td>-83.749229</td><td>18.0</td><td>13.013806</td><td>12.839156</td></tr></tbody></table></div>"
      ]
     },
     "execution_count": 8,
     "metadata": {},
     "output_type": "execute_result"
    }
   ],
   "execution_count": 8
  },
  {
   "metadata": {
    "ExecuteTime": {
     "end_time": "2024-07-19T11:12:27.776502Z",
     "start_time": "2024-07-19T11:12:27.771934Z"
    }
   },
   "cell_type": "code",
   "source": "diff_arr = temp_df.select(pl.col(\"Temp[DegC]\", \"Pred[DegC]\")).to_numpy()",
   "id": "a7504ee62428e296",
   "outputs": [],
   "execution_count": 9
  },
  {
   "metadata": {
    "ExecuteTime": {
     "end_time": "2024-07-19T11:12:27.788252Z",
     "start_time": "2024-07-19T11:12:27.782903Z"
    }
   },
   "cell_type": "code",
   "source": "rmse = float(np.sqrt(np.mean((diff_arr[:, 0] - diff_arr[:, 1]) ** 2)))",
   "id": "d16ebd0730d6bc58",
   "outputs": [],
   "execution_count": 10
  },
  {
   "metadata": {
    "ExecuteTime": {
     "end_time": "2024-07-19T11:12:27.797271Z",
     "start_time": "2024-07-19T11:12:27.790971Z"
    }
   },
   "cell_type": "code",
   "source": "rmse",
   "id": "86a2ffde7cd6a4cc",
   "outputs": [
    {
     "data": {
      "text/plain": [
       "0.15234904013517364"
      ]
     },
     "execution_count": 11,
     "metadata": {},
     "output_type": "execute_result"
    }
   ],
   "execution_count": 11
  },
  {
   "metadata": {
    "ExecuteTime": {
     "end_time": "2024-07-19T11:12:27.801944Z",
     "start_time": "2024-07-19T11:12:27.799282Z"
    }
   },
   "cell_type": "code",
   "source": "",
   "id": "7c89760ecdfbb358",
   "outputs": [],
   "execution_count": 11
  }
 ],
 "metadata": {
  "kernelspec": {
   "display_name": "Python 3",
   "language": "python",
   "name": "python3"
  },
  "language_info": {
   "codemirror_mode": {
    "name": "ipython",
    "version": 2
   },
   "file_extension": ".py",
   "mimetype": "text/x-python",
   "name": "python",
   "nbconvert_exporter": "python",
   "pygments_lexer": "ipython2",
   "version": "2.7.6"
  }
 },
 "nbformat": 4,
 "nbformat_minor": 5
}
