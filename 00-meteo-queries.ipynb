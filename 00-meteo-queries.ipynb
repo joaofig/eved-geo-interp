{
 "cells": [
  {
   "cell_type": "code",
   "id": "initial_id",
   "metadata": {
    "collapsed": true,
    "ExecuteTime": {
     "end_time": "2024-07-16T09:03:25.838418Z",
     "start_time": "2024-07-16T09:03:15.658731Z"
    }
   },
   "source": [
    "import os\n",
    "import json\n",
    "import folium\n",
    "import numpy as np\n",
    "import polars as pl\n",
    "\n",
    "from timezonefinder import TimezoneFinder\n",
    "from typing import List, Dict\n",
    "from datetime import datetime, timedelta\n",
    "from pytz import timezone\n",
    "from src.openmeteo import get_hist_temp\n",
    "from src.models import MeteoSource, MeteoPredictor"
   ],
   "outputs": [],
   "execution_count": 1
  },
  {
   "metadata": {
    "ExecuteTime": {
     "end_time": "2024-07-16T09:03:31.469115Z",
     "start_time": "2024-07-16T09:03:25.840820Z"
    }
   },
   "cell_type": "code",
   "source": [
    "num_rows = (pl.scan_csv(\"data/eVED/*.csv\")\n",
    "              .select(pl.col(\"DayNum\"))\n",
    "              .count()).collect()"
   ],
   "id": "2be46a92f6380e34",
   "outputs": [],
   "execution_count": 2
  },
  {
   "metadata": {
    "ExecuteTime": {
     "end_time": "2024-07-16T09:03:31.497393Z",
     "start_time": "2024-07-16T09:03:31.470975Z"
    }
   },
   "cell_type": "code",
   "source": "int(num_rows.to_numpy()[0][0])",
   "id": "e76d28c296031483",
   "outputs": [
    {
     "data": {
      "text/plain": [
       "22436808"
      ]
     },
     "execution_count": 3,
     "metadata": {},
     "output_type": "execute_result"
    }
   ],
   "execution_count": 3
  },
  {
   "metadata": {
    "ExecuteTime": {
     "end_time": "2024-07-16T09:03:44.361880Z",
     "start_time": "2024-07-16T09:03:40.546257Z"
    }
   },
   "cell_type": "code",
   "source": [
    "temp_samples = [pl.read_csv(f\"data/eVED/{file}\", \n",
    "                            columns=[\"DayNum\", \"Timestamp(ms)\", \"Latitude[deg]\", \"Longitude[deg]\", \"OAT[DegC]\"],\n",
    "                            schema_overrides={\"DayNum\": pl.Float64, \n",
    "                                              \"Timestamp(ms)\": pl.Float64, \n",
    "                                              \"Latitude[deg]\": pl.Float64, \n",
    "                                              \"Longitude[deg]\": pl.Float64,\n",
    "                                              \"OAT[DegC]\": pl.Float64})\n",
    "                  .filter(pl.col(\"OAT[DegC]\").is_not_nan())\n",
    "                  .sample(n=50) \n",
    "                for file in os.listdir(\"data/eVED/\")]"
   ],
   "id": "ea4a2079f7a5f7df",
   "outputs": [],
   "execution_count": 4
  },
  {
   "metadata": {
    "ExecuteTime": {
     "end_time": "2024-07-16T09:03:44.370085Z",
     "start_time": "2024-07-16T09:03:44.365572Z"
    }
   },
   "cell_type": "code",
   "source": "sample_df = pl.concat(temp_samples, rechunk=True)",
   "id": "de1412f10cd8326d",
   "outputs": [],
   "execution_count": 5
  },
  {
   "metadata": {
    "ExecuteTime": {
     "end_time": "2024-07-16T09:03:44.380562Z",
     "start_time": "2024-07-16T09:03:44.372097Z"
    }
   },
   "cell_type": "code",
   "source": "sample_df",
   "id": "aea1c7ed00b4723c",
   "outputs": [
    {
     "data": {
      "text/plain": [
       "shape: (2_700, 5)\n",
       "┌────────────┬───────────────┬───────────────┬────────────────┬───────────┐\n",
       "│ DayNum     ┆ Timestamp(ms) ┆ Latitude[deg] ┆ Longitude[deg] ┆ OAT[DegC] │\n",
       "│ ---        ┆ ---           ┆ ---           ┆ ---            ┆ ---       │\n",
       "│ f64        ┆ f64           ┆ f64           ┆ f64            ┆ f64       │\n",
       "╞════════════╪═══════════════╪═══════════════╪════════════════╪═══════════╡\n",
       "│ 193.742697 ┆ 170900.0      ┆ 42.264098     ┆ -83.750708     ┆ 20.0      │\n",
       "│ 191.556449 ┆ 909000.0      ┆ 42.282247     ┆ -83.746422     ┆ 16.0      │\n",
       "│ 195.63393  ┆ 106300.0      ┆ 42.255647     ┆ -83.797987     ┆ 7.0       │\n",
       "│ 191.485366 ┆ 3100.0        ┆ 42.229349     ┆ -83.738711     ┆ 9.0       │\n",
       "│ 190.585671 ┆ 189900.0      ┆ 42.245103     ┆ -83.690102     ┆ 15.0      │\n",
       "│ …          ┆ …             ┆ …             ┆ …              ┆ …         │\n",
       "│ 334.593673 ┆ 686800.0      ┆ 42.237072     ┆ -83.681292     ┆ 23.0      │\n",
       "│ 332.865063 ┆ 534900.0      ┆ 42.280174     ┆ -83.699263     ┆ 19.0      │\n",
       "│ 332.865063 ┆ 135700.0      ┆ 42.288047     ┆ -83.692936     ┆ 19.0      │\n",
       "│ 331.870983 ┆ 2.8671e6      ┆ 42.233888     ┆ -83.712032     ┆ 26.0      │\n",
       "│ 334.820863 ┆ 9300.0        ┆ 42.244326     ┆ -83.728192     ┆ 21.0      │\n",
       "└────────────┴───────────────┴───────────────┴────────────────┴───────────┘"
      ],
      "text/html": [
       "<div><style>\n",
       ".dataframe > thead > tr,\n",
       ".dataframe > tbody > tr {\n",
       "  text-align: right;\n",
       "  white-space: pre-wrap;\n",
       "}\n",
       "</style>\n",
       "<small>shape: (2_700, 5)</small><table border=\"1\" class=\"dataframe\"><thead><tr><th>DayNum</th><th>Timestamp(ms)</th><th>Latitude[deg]</th><th>Longitude[deg]</th><th>OAT[DegC]</th></tr><tr><td>f64</td><td>f64</td><td>f64</td><td>f64</td><td>f64</td></tr></thead><tbody><tr><td>193.742697</td><td>170900.0</td><td>42.264098</td><td>-83.750708</td><td>20.0</td></tr><tr><td>191.556449</td><td>909000.0</td><td>42.282247</td><td>-83.746422</td><td>16.0</td></tr><tr><td>195.63393</td><td>106300.0</td><td>42.255647</td><td>-83.797987</td><td>7.0</td></tr><tr><td>191.485366</td><td>3100.0</td><td>42.229349</td><td>-83.738711</td><td>9.0</td></tr><tr><td>190.585671</td><td>189900.0</td><td>42.245103</td><td>-83.690102</td><td>15.0</td></tr><tr><td>&hellip;</td><td>&hellip;</td><td>&hellip;</td><td>&hellip;</td><td>&hellip;</td></tr><tr><td>334.593673</td><td>686800.0</td><td>42.237072</td><td>-83.681292</td><td>23.0</td></tr><tr><td>332.865063</td><td>534900.0</td><td>42.280174</td><td>-83.699263</td><td>19.0</td></tr><tr><td>332.865063</td><td>135700.0</td><td>42.288047</td><td>-83.692936</td><td>19.0</td></tr><tr><td>331.870983</td><td>2.8671e6</td><td>42.233888</td><td>-83.712032</td><td>26.0</td></tr><tr><td>334.820863</td><td>9300.0</td><td>42.244326</td><td>-83.728192</td><td>21.0</td></tr></tbody></table></div>"
      ]
     },
     "execution_count": 6,
     "metadata": {},
     "output_type": "execute_result"
    }
   ],
   "execution_count": 6
  },
  {
   "metadata": {
    "ExecuteTime": {
     "end_time": "2024-07-16T09:04:21.572047Z",
     "start_time": "2024-07-16T09:04:21.562922Z"
    }
   },
   "cell_type": "code",
   "source": "sample_df.to_numpy()",
   "id": "d0d3d9da84a96c05",
   "outputs": [
    {
     "data": {
      "text/plain": [
       "array([[ 1.93742697e+02,  1.70900000e+05,  4.22640981e+01,\n",
       "        -8.37507083e+01,  2.00000000e+01],\n",
       "       [ 1.91556449e+02,  9.09000000e+05,  4.22822469e+01,\n",
       "        -8.37464225e+01,  1.60000000e+01],\n",
       "       [ 1.95633930e+02,  1.06300000e+05,  4.22556467e+01,\n",
       "        -8.37979872e+01,  7.00000000e+00],\n",
       "       ...,\n",
       "       [ 3.32865063e+02,  1.35700000e+05,  4.22880467e+01,\n",
       "        -8.36929358e+01,  1.90000000e+01],\n",
       "       [ 3.31870983e+02,  2.86710000e+06,  4.22338878e+01,\n",
       "        -8.37120319e+01,  2.60000000e+01],\n",
       "       [ 3.34820863e+02,  9.30000000e+03,  4.22443258e+01,\n",
       "        -8.37281917e+01,  2.10000000e+01]])"
      ]
     },
     "execution_count": 7,
     "metadata": {},
     "output_type": "execute_result"
    }
   ],
   "execution_count": 7
  },
  {
   "metadata": {},
   "cell_type": "code",
   "source": [
    "def create_folium_map() -> folium.Map:\n",
    "    folium_map = folium.Map(prefer_canvas=True, tiles=\"cartodbpositron\")\n",
    "    return folium_map"
   ],
   "id": "22a24361c685568",
   "outputs": [],
   "execution_count": null
  },
  {
   "metadata": {},
   "cell_type": "code",
   "source": [
    "def fit_bounds(folium_map: folium.Map, locations: np.ndarray) -> folium.Map:\n",
    "    min_lat, max_lat = locations[:, 0].min(), locations[:, 0].max()\n",
    "    min_lon, max_lon = locations[:, 1].min(), locations[:, 1].max()\n",
    "    folium_map.fit_bounds([[min_lat, min_lon], [max_lat, max_lon]])\n",
    "    return folium_map"
   ],
   "id": "6cc99799fe88aee8",
   "outputs": [],
   "execution_count": null
  },
  {
   "metadata": {},
   "cell_type": "code",
   "source": [
    "def get_temp_locations(files: str = \"data/eVED/*.csv\") -> np.ndarray:\n",
    "    lf = (pl.scan_csv(files)\n",
    "          .select([pl.col(\"Matchted Latitude[deg]\").alias(\"lat\"),\n",
    "                   pl.col(\"Matched Longitude[deg]\").alias(\"lon\")]))\n",
    "    loc_max = lf.max().collect().to_numpy()[0]\n",
    "    loc_min = lf.min().collect().to_numpy()[0]\n",
    "    loc_mid = (loc_min + loc_max) / 2\n",
    "    locations = np.array([\n",
    "        (loc_min[0], loc_min[1]),\n",
    "        (loc_min[0], loc_mid[1]),\n",
    "        (loc_min[0], loc_max[1]),\n",
    "        (loc_mid[0], loc_min[1]),\n",
    "        (loc_mid[0], loc_mid[1]),\n",
    "        (loc_mid[0], loc_max[1]),\n",
    "        (loc_max[0], loc_min[1]),\n",
    "        (loc_max[0], loc_mid[1]),\n",
    "        (loc_max[0], loc_max[1])\n",
    "    ])\n",
    "    return locations"
   ],
   "id": "a390b247f4107a65",
   "outputs": [],
   "execution_count": null
  },
  {
   "metadata": {},
   "cell_type": "code",
   "source": "get_temp_locations()",
   "id": "57f5202f50ac0d08",
   "outputs": [],
   "execution_count": null
  },
  {
   "metadata": {},
   "cell_type": "code",
   "source": [
    "date_min = \"2017-11-01\"\n",
    "date_max = \"2018-12-01\""
   ],
   "id": "45533d535c7b109a",
   "outputs": [],
   "execution_count": null
  },
  {
   "metadata": {},
   "cell_type": "code",
   "source": [
    "def get_temp_sources(temp_locations: np.ndarray) -> List[Dict]:\n",
    "    temp_sources = []\n",
    "    for i, location in enumerate(get_temp_locations()):\n",
    "        filename = f\"./data/openmeteo/location_{i}.json\"\n",
    "        if not os.path.exists(filename):\n",
    "            temperatures = get_hist_temp(*location, start_date=date_min, end_date=date_max)\n",
    "            with open(filename, \"w\") as f:\n",
    "                f.write(json.dumps(temperatures))\n",
    "        else:\n",
    "            with open(filename, \"r\") as f:\n",
    "                temperatures = json.loads(f.read())\n",
    "        temp_sources.append(temperatures)\n",
    "    return temp_sources"
   ],
   "id": "e438f9a3c9a95667",
   "outputs": [],
   "execution_count": null
  },
  {
   "metadata": {},
   "cell_type": "code",
   "source": "temp_sources = get_temp_sources(get_temp_locations())",
   "id": "3286832a1a28d77f",
   "outputs": [],
   "execution_count": null
  },
  {
   "metadata": {},
   "cell_type": "code",
   "source": "sources = [MeteoSource.from_temp_source(temp_src) for temp_src in temp_sources]",
   "id": "79d01ca88de1683d",
   "outputs": [],
   "execution_count": null
  },
  {
   "metadata": {},
   "cell_type": "code",
   "source": "predictor = MeteoPredictor(sources)",
   "id": "1b975a753a1f67be",
   "outputs": [],
   "execution_count": null
  },
  {
   "metadata": {},
   "cell_type": "code",
   "source": [
    "predictor.predict(latitude=42.220268,\n",
    "                  longitude=-83.739138,\n",
    "                  timestamp=datetime(year=2018, month=8, day=1, hour=10, minute=0, tzinfo=timezone('America/Detroit')))"
   ],
   "id": "d6ce5d126fe6247",
   "outputs": [],
   "execution_count": null
  },
  {
   "metadata": {},
   "cell_type": "code",
   "source": "",
   "id": "967f32b10b898894",
   "outputs": [],
   "execution_count": null
  },
  {
   "metadata": {},
   "cell_type": "code",
   "source": "",
   "id": "233d7b9341c1a281",
   "outputs": [],
   "execution_count": null
  },
  {
   "metadata": {},
   "cell_type": "code",
   "source": "base_dt = datetime(year=2017, month=11, day=1, tzinfo=timezone(\"America/Detroit\"))",
   "id": "5043cd40c1266d2d",
   "outputs": [],
   "execution_count": null
  },
  {
   "metadata": {},
   "cell_type": "code",
   "source": "base_dt",
   "id": "adfb7ccf9c5bb584",
   "outputs": [],
   "execution_count": null
  },
  {
   "metadata": {},
   "cell_type": "code",
   "source": "dt = base_dt + timedelta(days=43.921533287-1) + timedelta(milliseconds=0)",
   "id": "6c0bd4bff3b35b7b",
   "outputs": [],
   "execution_count": null
  },
  {
   "metadata": {},
   "cell_type": "code",
   "source": "dt",
   "id": "d9aea697be532e37",
   "outputs": [],
   "execution_count": null
  },
  {
   "metadata": {},
   "cell_type": "code",
   "source": "predictor.predict(42.2867688889, -83.7323916667, dt, power=1)",
   "id": "a0deed063ce5fb3e",
   "outputs": [],
   "execution_count": null
  },
  {
   "metadata": {},
   "cell_type": "code",
   "source": "",
   "id": "56349f4f4ae5a271",
   "outputs": [],
   "execution_count": null
  },
  {
   "metadata": {},
   "cell_type": "code",
   "source": [
    "tf = TimezoneFinder()\n",
    "tf.timezone_at(lat=42.2659958333, lng=-83.7391669444)"
   ],
   "id": "dd1dc5eb991104d7",
   "outputs": [],
   "execution_count": null
  },
  {
   "metadata": {},
   "cell_type": "code",
   "source": [
    "def make_datetime(day_num: float, ts: int) -> float:\n",
    "    base = datetime(year=2017, month=11, day=1, tzinfo=timezone(\"America/Detroit\"))\n",
    "    dt = base + timedelta(days=day_num - 1) + timedelta(milliseconds=ts)\n",
    "    return dt.timestamp()"
   ],
   "id": "794434bee22776e5",
   "outputs": [],
   "execution_count": null
  },
  {
   "metadata": {},
   "cell_type": "code",
   "source": [
    "date_lf = (pl.scan_csv(f\"data/eVED/*.csv\")\n",
    "           .select([pl.col(\"DayNum\").alias(\"day_num\"), \n",
    "                    pl.col(\"Timestamp(ms)\").alias(\"ts\"),\n",
    "                    pl.col(\"Matchted Latitude[deg]\").alias(\"lat\"),\n",
    "                    pl.col(\"Matched Longitude[deg]\").alias(\"lon\"),\n",
    "                    pl.col(\"OAT[DegC]\").alias(\"temperature\")])\n",
    "           .with_columns(pl.struct([\"day_num\", \"ts\"])\n",
    "                         .map_elements(lambda x: make_datetime(x[\"day_num\"], x[\"ts\"]),\n",
    "                                       return_dtype=pl.Float64)\n",
    "                         .alias(\"timestamp\"))\n",
    "           )"
   ],
   "id": "19ce3441789ed510",
   "outputs": [],
   "execution_count": null
  },
  {
   "metadata": {},
   "cell_type": "code",
   "source": "date_lf.head(20).collect()",
   "id": "1463b08ca95b1202",
   "outputs": [],
   "execution_count": null
  },
  {
   "metadata": {},
   "cell_type": "code",
   "source": "base_dt.timestamp()",
   "id": "11ef59f0adaf7337",
   "outputs": [],
   "execution_count": null
  },
  {
   "metadata": {},
   "cell_type": "code",
   "source": "1509565006663200 / 1000 / 1000",
   "id": "587fd6ea88e5fedf",
   "outputs": [],
   "execution_count": null
  },
  {
   "metadata": {},
   "cell_type": "code",
   "source": "",
   "id": "d771f57b23f966cf",
   "outputs": [],
   "execution_count": null
  },
  {
   "metadata": {},
   "cell_type": "code",
   "source": "date_lf.select(pl.col(\"temperature\")).min().collect()",
   "id": "1f8c612d89b4ef2b",
   "outputs": [],
   "execution_count": null
  },
  {
   "metadata": {},
   "cell_type": "code",
   "source": "date_lf.filter(pl.col(\"temperature\") != \"nan\").select(pl.col(\"temperature\").cast(pl.Float64)).max().collect()",
   "id": "6b74af02b70bb9a9",
   "outputs": [],
   "execution_count": null
  },
  {
   "metadata": {},
   "cell_type": "code",
   "source": "date_lf.filter(pl.col(\"temperature\") != \"nan\").select(pl.col(\"temperature\").cast(pl.Float64)).min().collect()",
   "id": "e0417f0aff9bafb1",
   "outputs": [],
   "execution_count": null
  },
  {
   "metadata": {},
   "cell_type": "code",
   "source": "",
   "id": "2519daf9851b8125",
   "outputs": [],
   "execution_count": null
  }
 ],
 "metadata": {
  "kernelspec": {
   "display_name": "Python 3",
   "language": "python",
   "name": "python3"
  },
  "language_info": {
   "codemirror_mode": {
    "name": "ipython",
    "version": 2
   },
   "file_extension": ".py",
   "mimetype": "text/x-python",
   "name": "python",
   "nbconvert_exporter": "python",
   "pygments_lexer": "ipython2",
   "version": "2.7.6"
  }
 },
 "nbformat": 4,
 "nbformat_minor": 5
}
