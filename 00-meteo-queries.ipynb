{
 "cells": [
  {
   "cell_type": "code",
   "id": "initial_id",
   "metadata": {
    "collapsed": true,
    "ExecuteTime": {
     "end_time": "2024-06-17T18:36:15.870774Z",
     "start_time": "2024-06-17T18:36:15.827569Z"
    }
   },
   "source": [
    "import os\n",
    "import json\n",
    "import polars as pl\n",
    "\n",
    "from datetime import datetime, timedelta\n",
    "from pytz import timezone\n",
    "from src.openmeteo import get_hist_temp"
   ],
   "outputs": [],
   "execution_count": 3
  },
  {
   "metadata": {
    "ExecuteTime": {
     "end_time": "2024-06-16T12:25:38.352262Z",
     "start_time": "2024-06-16T12:25:38.347799Z"
    }
   },
   "cell_type": "code",
   "source": [
    "lf = (pl.scan_csv(f\"data/eVED/*.csv\")\n",
    "      .select([pl.col(\"Matchted Latitude[deg]\").alias(\"lat\"), \n",
    "               pl.col(\"Matched Longitude[deg]\").alias(\"lon\")]))"
   ],
   "id": "461623ed001e5f05",
   "outputs": [],
   "execution_count": 2
  },
  {
   "metadata": {
    "ExecuteTime": {
     "end_time": "2024-06-16T12:25:40.637232Z",
     "start_time": "2024-06-16T12:25:38.353642Z"
    }
   },
   "cell_type": "code",
   "source": "loc_max = lf.max().collect().to_numpy()[0]",
   "id": "dd54cc181ca94fc0",
   "outputs": [],
   "execution_count": 3
  },
  {
   "metadata": {
    "ExecuteTime": {
     "end_time": "2024-06-16T12:25:42.037005Z",
     "start_time": "2024-06-16T12:25:40.639118Z"
    }
   },
   "cell_type": "code",
   "source": "loc_min = lf.min().collect().to_numpy()[0]",
   "id": "191956127272250",
   "outputs": [],
   "execution_count": 4
  },
  {
   "metadata": {
    "ExecuteTime": {
     "end_time": "2024-06-16T12:25:42.042566Z",
     "start_time": "2024-06-16T12:25:42.040297Z"
    }
   },
   "cell_type": "code",
   "source": "",
   "id": "aecb8190270cf824",
   "outputs": [],
   "execution_count": 4
  },
  {
   "metadata": {
    "ExecuteTime": {
     "end_time": "2024-06-16T12:25:42.048396Z",
     "start_time": "2024-06-16T12:25:42.044150Z"
    }
   },
   "cell_type": "code",
   "source": [
    "loc_mid = (loc_min+loc_max)/2\n",
    "locations = [\n",
    "    (loc_min[0], loc_min[1]),\n",
    "    (loc_min[0], loc_mid[1]),\n",
    "    (loc_min[0], loc_max[1]),\n",
    "    (loc_mid[0], loc_min[1]),\n",
    "    (loc_mid[0], loc_mid[1]),\n",
    "    (loc_mid[0], loc_max[1]),\n",
    "    (loc_max[0], loc_min[1]),\n",
    "    (loc_max[0], loc_mid[1]),\n",
    "    (loc_max[0], loc_max[1])\n",
    "]"
   ],
   "id": "2ab6ac2bed700667",
   "outputs": [],
   "execution_count": 5
  },
  {
   "metadata": {
    "ExecuteTime": {
     "end_time": "2024-06-16T12:25:42.056955Z",
     "start_time": "2024-06-16T12:25:42.049872Z"
    }
   },
   "cell_type": "code",
   "source": "locations",
   "id": "dd2833e6f1e21354",
   "outputs": [
    {
     "data": {
      "text/plain": [
       "[(42.220268, -83.804839),\n",
       " (42.220268, -83.739138),\n",
       " (42.220268, -83.673437),\n",
       " (42.2730605, -83.804839),\n",
       " (42.2730605, -83.739138),\n",
       " (42.2730605, -83.673437),\n",
       " (42.325853, -83.804839),\n",
       " (42.325853, -83.739138),\n",
       " (42.325853, -83.673437)]"
      ]
     },
     "execution_count": 6,
     "metadata": {},
     "output_type": "execute_result"
    }
   ],
   "execution_count": 6
  },
  {
   "metadata": {
    "ExecuteTime": {
     "end_time": "2024-06-16T12:25:42.064419Z",
     "start_time": "2024-06-16T12:25:42.060464Z"
    }
   },
   "cell_type": "code",
   "source": [
    "date_min = \"2017-11-01\"\n",
    "date_max = \"2018-12-01\""
   ],
   "id": "45533d535c7b109a",
   "outputs": [],
   "execution_count": 7
  },
  {
   "metadata": {
    "ExecuteTime": {
     "end_time": "2024-06-16T12:25:45.332063Z",
     "start_time": "2024-06-16T12:25:42.067310Z"
    }
   },
   "cell_type": "code",
   "source": [
    "for i, location in enumerate(locations):\n",
    "    print(i)\n",
    "    filename = f\"./data/openmeteo/location_{i}.json\"\n",
    "    if not os.path.exists(filename):\n",
    "        temperatures = get_hist_temp(*location, start_date=date_min, end_date=date_max)\n",
    "        with open(filename, \"w\") as f:\n",
    "            f.write(json.dumps(temperatures))"
   ],
   "id": "114d459d315dcfc4",
   "outputs": [
    {
     "name": "stdout",
     "output_type": "stream",
     "text": [
      "0\n",
      "1\n",
      "2\n",
      "3\n",
      "4\n",
      "5\n",
      "6\n",
      "7\n",
      "8\n"
     ]
    }
   ],
   "execution_count": 8
  },
  {
   "metadata": {
    "ExecuteTime": {
     "end_time": "2024-06-17T18:49:15.411832Z",
     "start_time": "2024-06-17T18:49:15.406911Z"
    }
   },
   "cell_type": "code",
   "source": "base_dt = datetime(year=2017, month=11, day=1, tzinfo=timezone(\"America/Detroit\"))",
   "id": "5043cd40c1266d2d",
   "outputs": [],
   "execution_count": 12
  },
  {
   "metadata": {
    "ExecuteTime": {
     "end_time": "2024-06-17T18:49:17.101834Z",
     "start_time": "2024-06-17T18:49:17.095551Z"
    }
   },
   "cell_type": "code",
   "source": "base_dt",
   "id": "adfb7ccf9c5bb584",
   "outputs": [
    {
     "data": {
      "text/plain": [
       "datetime.datetime(2017, 11, 1, 0, 0, tzinfo=<DstTzInfo 'America/Detroit' LMT-1 day, 18:28:00 STD>)"
      ]
     },
     "execution_count": 13,
     "metadata": {},
     "output_type": "execute_result"
    }
   ],
   "execution_count": 13
  },
  {
   "metadata": {
    "ExecuteTime": {
     "end_time": "2024-06-17T18:49:19.500716Z",
     "start_time": "2024-06-17T18:49:19.494744Z"
    }
   },
   "cell_type": "code",
   "source": "base_dt + timedelta(days=232.672898648) + timedelta(milliseconds=0)",
   "id": "6c0bd4bff3b35b7b",
   "outputs": [
    {
     "data": {
      "text/plain": [
       "datetime.datetime(2018, 6, 21, 16, 8, 58, 443187, tzinfo=<DstTzInfo 'America/Detroit' LMT-1 day, 18:28:00 STD>)"
      ]
     },
     "execution_count": 14,
     "metadata": {},
     "output_type": "execute_result"
    }
   ],
   "execution_count": 14
  },
  {
   "metadata": {
    "ExecuteTime": {
     "end_time": "2024-06-17T18:48:44.707921Z",
     "start_time": "2024-06-17T18:48:42.958222Z"
    }
   },
   "cell_type": "code",
   "source": [
    "from timezonefinder import TimezoneFinder\n",
    "tf = TimezoneFinder()\n",
    "tf.timezone_at(lat=42.2659958333, lng=-83.7391669444)"
   ],
   "id": "dd1dc5eb991104d7",
   "outputs": [
    {
     "data": {
      "text/plain": [
       "'America/Detroit'"
      ]
     },
     "execution_count": 11,
     "metadata": {},
     "output_type": "execute_result"
    }
   ],
   "execution_count": 11
  },
  {
   "metadata": {},
   "cell_type": "code",
   "outputs": [],
   "execution_count": null,
   "source": "",
   "id": "794434bee22776e5"
  }
 ],
 "metadata": {
  "kernelspec": {
   "display_name": "Python 3",
   "language": "python",
   "name": "python3"
  },
  "language_info": {
   "codemirror_mode": {
    "name": "ipython",
    "version": 2
   },
   "file_extension": ".py",
   "mimetype": "text/x-python",
   "name": "python",
   "nbconvert_exporter": "python",
   "pygments_lexer": "ipython2",
   "version": "2.7.6"
  }
 },
 "nbformat": 4,
 "nbformat_minor": 5
}
